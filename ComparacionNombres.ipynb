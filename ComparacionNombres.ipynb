{
 "cells": [
  {
   "cell_type": "code",
   "execution_count": 89,
   "metadata": {},
   "outputs": [],
   "source": [
    "import jellyfish\n",
    "import pandas as pd"
   ]
  },
  {
   "cell_type": "code",
   "execution_count": 93,
   "metadata": {},
   "outputs": [],
   "source": [
    "nombre_correcto = 'MAYRA moRAtaYA'\n",
    "nombres_incorrectos = ['maira morataya', 'MAira moratalla', 'mayra morataya', 'mayra moratall', 'mayr moataya', 'mayramorataya', 'ma morataya', 'mayar moarat']"
   ]
  },
  {
   "cell_type": "markdown",
   "metadata": {},
   "source": [
    "# String comparison\n",
    "## Algoritmo: Jaro Distance\n",
    "Compute the Jaro distance between s1 and s2.\n",
    "\n",
    "Jaro distance is a string-edit distance that gives a floating point response in [0,1] where 0 represents two completely dissimilar strings and 1 represents identical strings."
   ]
  },
  {
   "cell_type": "code",
   "execution_count": 55,
   "metadata": {},
   "outputs": [
    {
     "name": "stdout",
     "output_type": "stream",
     "text": [
      "Nombre a comparar: MAYRA MORATAYA\n",
      "Resultados:\n",
      "MAIRA MORATALLA: 88.57%\n",
      "MAYRA MORATAYA: 100.0%\n",
      "MAYRA MORATALL: 90.48%\n",
      "MAYR MOATAYA: 84.13%\n",
      "MAYRAMORATAYA: 97.62%\n",
      "MA MORATAYA: 80.74%\n",
      "MAYAR MOARAT: 86.9%\n"
     ]
    }
   ],
   "source": [
    "print(f'Nombre a comparar: {nombre_correcto.upper()}')\n",
    "print('Resultados:')\n",
    "for nombre_incorrecto in nombres_incorrectos:\n",
    "    results = jellyfish.jaro_distance(nombre_correcto.upper(), nombre_incorrecto.upper())\n",
    "    print(f'{nombre_incorrecto.upper()}: {round(results * 100, 2)}%')"
   ]
  },
  {
   "cell_type": "markdown",
   "metadata": {},
   "source": [
    "## Jaro-Winkler Distance\n",
    "Compute the Jaro-Winkler distance between s1 and s2.\n",
    "\n",
    "Jaro-Winkler is a modification/improvement to Jaro distance, like Jaro it gives a floating point response in [0,1] where 0 represents two completely dissimilar strings and 1 represents identical strings.\n",
    "\n",
    "See the Jaro-Winkler distance article at Wikipedia for more details."
   ]
  },
  {
   "cell_type": "code",
   "execution_count": 87,
   "metadata": {},
   "outputs": [
    {
     "name": "stdout",
     "output_type": "stream",
     "text": [
      "Nombre a comparar: MAYRA MORATAYA\n",
      "Resultados:\n",
      "MAIRA MORATAYA: 96.19%\n",
      "MAIRA MORATALLA: 90.86%\n",
      "MAYRA MORATAYA: 100.0%\n",
      "MAYRA MORATALL: 94.29%\n",
      "MAYR MOATAYA: 90.48%\n",
      "MAYRAMORATAYA: 98.57%\n",
      "MA MORATAYA: 84.59%\n",
      "MAYAR MOARAT: 90.83%\n"
     ]
    }
   ],
   "source": [
    "print(f'Nombre a comparar: {nombre_correcto.upper()}')\n",
    "print('Resultados:')\n",
    "for nombre_incorrecto in nombres_incorrectos:\n",
    "    results = jellyfish.jaro_winkler(nombre_correcto.upper(), nombre_incorrecto.upper())\n",
    "    print(f'{nombre_incorrecto.upper()}: {round(results * 100, 2)}%')"
   ]
  },
  {
   "cell_type": "markdown",
   "metadata": {},
   "source": [
    "## Levenshtein Distance\n",
    "Compute the Levenshtein distance between s1 and s2.\n",
    "\n",
    "Levenshtein distance represents the number of insertions, deletions, and substitutions required to change one word to another.\n",
    "\n",
    "For example: levenshtein_distance('berne', 'born') == 2 representing the transformation of the first e to o and the deletion of the second e.\n",
    "\n",
    "See the Levenshtein distance article at Wikipedia for more details."
   ]
  },
  {
   "cell_type": "code",
   "execution_count": 63,
   "metadata": {},
   "outputs": [
    {
     "name": "stdout",
     "output_type": "stream",
     "text": [
      "Nombre a comparar: MAYRA MORATAYA\n",
      "Resultados:\n",
      "MAIRA MORATAYA: 1 Letras incorrectas\n",
      "MAIRA MORATALLA: 3 Letras incorrectas\n",
      "MAYRA MORATAYA: 0 Letras incorrectas\n",
      "MAYRA MORATALL: 2 Letras incorrectas\n",
      "MAYR MOATAYA: 2 Letras incorrectas\n",
      "MAYRAMORATAYA: 1 Letras incorrectas\n",
      "MA MORATAYA: 3 Letras incorrectas\n",
      "MAYAR MOARAT: 6 Letras incorrectas\n"
     ]
    }
   ],
   "source": [
    "print(f'Nombre a comparar: {nombre_correcto.upper()}')\n",
    "print('Resultados:')\n",
    "for nombre_incorrecto in nombres_incorrectos:\n",
    "    results = jellyfish.levenshtein_distance(nombre_correcto.upper(), nombre_incorrecto.upper())\n",
    "    print(f'{nombre_incorrecto.upper()}: {round(results * 1, 2)} Letras incorrectas')"
   ]
  },
  {
   "cell_type": "markdown",
   "metadata": {},
   "source": [
    "## Damerau-Levenshtein Distance\n",
    "Compute the Damerau-Levenshtein distance between s1 and s2.\n",
    "\n",
    "A modification of Levenshtein distance, Damerau-Levenshtein distance counts transpositions (such as ifhs for fish) as a single edit.\n",
    "\n",
    "Where levenshtein_distance('fish', 'ifsh') == 2 as it would require a deletion and an insertion, though damerau_levenshtein_distance('fish', 'ifsh') == 1 as this counts as a transposition.\n",
    "\n",
    "See the Damerau-Levenshtein distance article at Wikipedia for more details."
   ]
  },
  {
   "cell_type": "code",
   "execution_count": 64,
   "metadata": {},
   "outputs": [
    {
     "name": "stdout",
     "output_type": "stream",
     "text": [
      "Nombre a comparar: MAYRA MORATAYA\n",
      "Resultados:\n",
      "MAIRA MORATAYA: 1 Letras incorrectas\n",
      "MAIRA MORATALLA: 3 Letras incorrectas\n",
      "MAYRA MORATAYA: 0 Letras incorrectas\n",
      "MAYRA MORATALL: 2 Letras incorrectas\n",
      "MAYR MOATAYA: 2 Letras incorrectas\n",
      "MAYRAMORATAYA: 1 Letras incorrectas\n",
      "MA MORATAYA: 3 Letras incorrectas\n",
      "MAYAR MOARAT: 5 Letras incorrectas\n"
     ]
    }
   ],
   "source": [
    "print(f'Nombre a comparar: {nombre_correcto.upper()}')\n",
    "print('Resultados:')\n",
    "for nombre_incorrecto in nombres_incorrectos:\n",
    "    results = jellyfish.damerau_levenshtein_distance(nombre_correcto.upper(), nombre_incorrecto.upper())\n",
    "    print(f'{nombre_incorrecto.upper()}: {round(results * 1, 2)} Letras incorrectas')"
   ]
  },
  {
   "cell_type": "markdown",
   "metadata": {},
   "source": [
    "## Match Rating Approach Comparison\n",
    "Compare s1 and s2 using the match rating approach algorithm, returns True if strings are considered equivalent or False if not. Can also return None if s1 and s2 are not comparable (length differs by more than 3).\n",
    "\n",
    "The Match rating approach algorithm is an algorithm for determining whether or not two names are pronounced similarly. Strings are first encoded using match_rating_codex() then compared according to the MRA algorithm.\n",
    "\n",
    "See the Match Rating Approach article at Wikipedia for more details."
   ]
  },
  {
   "cell_type": "code",
   "execution_count": 78,
   "metadata": {},
   "outputs": [
    {
     "name": "stdout",
     "output_type": "stream",
     "text": [
      "Nombre a comparar: MAYRA MORATAYA\n",
      "Resultados:\n",
      "MAIRA MORATAYA: 1 Letras incorrectas\n",
      "MAIRA MORATALLA: 1 Letras incorrectas\n",
      "MAYRA MORATAYA: 1 Letras incorrectas\n",
      "MAYRA MORATALL: 1 Letras incorrectas\n",
      "MAYR MOATAYA: 1 Letras incorrectas\n",
      "MAYRAMORATAYA: 1 Letras incorrectas\n",
      "MA MORATAYA: 1 Letras incorrectas\n",
      "MAYAR MOARAT: 1 Letras incorrectas\n"
     ]
    }
   ],
   "source": [
    "print(f'Nombre a comparar: {nombre_correcto.upper()}')\n",
    "print('Resultados:')\n",
    "for nombre_incorrecto in nombres_incorrectos:\n",
    "    results = jellyfish.match_rating_comparison(nombre_correcto.upper(), nombre_incorrecto.upper())\n",
    "    print(f'{nombre_incorrecto.upper()}: {round(results * 1, 2)} Letras incorrectas')"
   ]
  },
  {
   "cell_type": "markdown",
   "metadata": {},
   "source": [
    "## Hamming Distance\n",
    "Compute the Hamming distance between s1 and s2.\n",
    "\n",
    "Hamming distance is the measure of the number of characters that differ between two strings.\n",
    "\n",
    "Typically Hamming distance is undefined when strings are of different length, but this implementation considers extra characters as differing. For example hamming_distance('abc', 'abcd') == 1.\n",
    "\n",
    "See the Hamming distance article at Wikipedia for more details."
   ]
  },
  {
   "cell_type": "code",
   "execution_count": 72,
   "metadata": {},
   "outputs": [
    {
     "name": "stdout",
     "output_type": "stream",
     "text": [
      "Nombre a comparar: MAYRA MORATAYA\n",
      "Resultados:\n",
      "MAIRA MORATAYA: 1 Letras incorrectas\n",
      "MAIRA MORATALLA: 4 Letras incorrectas\n",
      "MAYRA MORATAYA: 0 Letras incorrectas\n",
      "MAYRA MORATALL: 2 Letras incorrectas\n",
      "MAYR MOATAYA: 8 Letras incorrectas\n",
      "MAYRAMORATAYA: 9 Letras incorrectas\n",
      "MA MORATAYA: 12 Letras incorrectas\n",
      "MAYAR MOARAT: 8 Letras incorrectas\n"
     ]
    }
   ],
   "source": [
    "print(f'Nombre a comparar: {nombre_correcto.upper()}')\n",
    "print('Resultados:')\n",
    "for nombre_incorrecto in nombres_incorrectos:\n",
    "    results = jellyfish.hamming_distance(nombre_correcto.upper(), nombre_incorrecto.upper())\n",
    "    print(f'{nombre_incorrecto.upper()}: {round(results * 1, 2)} Letras incorrectas')"
   ]
  },
  {
   "cell_type": "markdown",
   "metadata": {},
   "source": [
    "# Phonetic encoding:\n",
    "## American Soundex\n",
    "Calculate the American Soundex of the string s.\n",
    "\n",
    "Soundex is an algorithm to convert a word (typically a name) to a four digit code in the form 'A123' where 'A' is the first letter of the name and the digits represent similar sounds.\n",
    "\n",
    "For example soundex('Ann') == soundex('Anne') == 'A500' and soundex('Rupert') == soundex('Robert') == 'R163'.\n",
    "\n",
    "See the Soundex article at Wikipedia for more details."
   ]
  },
  {
   "cell_type": "code",
   "execution_count": 82,
   "metadata": {},
   "outputs": [
    {
     "name": "stdout",
     "output_type": "stream",
     "text": [
      "Nombre a comparar: MAYRA MORATAYA\n",
      "Resultados:\n",
      "MAIRA MORATAYA: M656 = M656 -> True\n",
      "MAIRA MORATALLA: M656 = M656 -> True\n",
      "MAYRA MORATAYA: M656 = M656 -> True\n",
      "MAYRA MORATALL: M656 = M656 -> True\n",
      "MAYR MOATAYA: M656 = M653 -> False\n",
      "MAYRAMORATAYA: M656 = M656 -> True\n",
      "MA MORATAYA: M656 = M563 -> False\n",
      "MAYAR MOARAT: M656 = M656 -> True\n"
     ]
    }
   ],
   "source": [
    "print(f'Nombre a comparar: {nombre_correcto.upper()}')\n",
    "print('Resultados:')\n",
    "for nombre_incorrecto in nombres_incorrectos:\n",
    "    results = jellyfish.soundex(nombre_correcto)\n",
    "    results2 = jellyfish.soundex(nombre_incorrecto)\n",
    "    es_igual = results == results2\n",
    "    print(f'{nombre_incorrecto.upper()}: {results} = {results2} -> {es_igual}')"
   ]
  },
  {
   "cell_type": "markdown",
   "metadata": {},
   "source": [
    "## Metaphone\n",
    "Calculate the metaphone code for the string s.\n",
    "\n",
    "The metaphone algorithm was designed as an improvement on Soundex. It transforms a word into a string consisting of '0BFHJKLMNPRSTWXY' where '0' is pronounced 'th' and 'X' is a '[sc]h' sound.\n",
    "\n",
    "For example metaphone('Klumpz') == metaphone('Clumps') == 'KLMPS'.\n",
    "\n",
    "See the Metaphone article at Wikipedia for more details."
   ]
  },
  {
   "cell_type": "code",
   "execution_count": 81,
   "metadata": {},
   "outputs": [
    {
     "name": "stdout",
     "output_type": "stream",
     "text": [
      "Nombre a comparar: MAYRA MORATAYA\n",
      "Resultados:\n",
      "MAIRA MORATAYA: MR MRTY = MR MRTY -> True\n",
      "MAIRA MORATALLA: MR MRTY = MR MRTL -> False\n",
      "MAYRA MORATAYA: MR MRTY = MR MRTY -> True\n",
      "MAYRA MORATALL: MR MRTY = MR MRTL -> False\n",
      "MAYR MOATAYA: MR MRTY = MR MTY -> False\n",
      "MAYRAMORATAYA: MR MRTY = MRMRTY -> False\n",
      "MA MORATAYA: MR MRTY = M MRTY -> False\n",
      "MAYAR MOARAT: MR MRTY = MYR MRT -> False\n"
     ]
    }
   ],
   "source": [
    "print(f'Nombre a comparar: {nombre_correcto.upper()}')\n",
    "print('Resultados:')\n",
    "for nombre_incorrecto in nombres_incorrectos:\n",
    "    results = jellyfish.metaphone(nombre_correcto)\n",
    "    results2 = jellyfish.metaphone(nombre_incorrecto)\n",
    "    es_igual = results == results2\n",
    "    print(f'{nombre_incorrecto.upper()}: {results} = {results2} -> {es_igual}')"
   ]
  },
  {
   "cell_type": "markdown",
   "metadata": {},
   "source": [
    "## NYSIIS (New York State Identification and Intelligence System)\n",
    "Calculate the NYSIIS code for the string s.\n",
    "\n",
    "The NYSIIS algorithm is an algorithm developed by the New York State Identification and Intelligence System. It transforms a word into a phonetic code. Like soundex and metaphone it is primarily intended for use on names (as they would be pronounced in English).\n",
    "\n",
    "For example nysiis('John') == nysiis('Jan') == JAN.\n",
    "\n",
    "See the NYSIIS article at Wikipedia for more details."
   ]
  },
  {
   "cell_type": "code",
   "execution_count": 80,
   "metadata": {},
   "outputs": [
    {
     "name": "stdout",
     "output_type": "stream",
     "text": [
      "Nombre a comparar: MAYRA MORATAYA\n",
      "Resultados:\n",
      "MAIRA MORATAYA: MAYRA NARATAY = MARA NARATAY -> False\n",
      "MAIRA MORATALLA: MAYRA NARATAY = MARA NARATAL -> False\n",
      "MAYRA MORATAYA: MAYRA NARATAY = MAYRA NARATAY -> True\n",
      "MAYRA MORATALL: MAYRA NARATAY = MAYRA NARATAL -> False\n",
      "MAYR MOATAYA: MAYRA NARATAY = MAYR NATAY -> False\n",
      "MAYRAMORATAYA: MAYRA NARATAY = MAYRANARATAY -> False\n",
      "MA MORATAYA: MAYRA NARATAY = MA NARATAY -> False\n",
      "MAYAR MOARAT: MAYRA NARATAY = MAYAR NARAT -> False\n"
     ]
    }
   ],
   "source": [
    "print(f'Nombre a comparar: {nombre_correcto.upper()}')\n",
    "print('Resultados:')\n",
    "for nombre_incorrecto in nombres_incorrectos:\n",
    "    results = jellyfish.nysiis(nombre_correcto)\n",
    "    results2 = jellyfish.nysiis(nombre_incorrecto)\n",
    "    es_igual = results == results2\n",
    "    print(f'{nombre_incorrecto.upper()}: {results} = {results2} -> {es_igual}')"
   ]
  },
  {
   "cell_type": "markdown",
   "metadata": {},
   "source": [
    "## Match Rating Codex\n",
    "Calculate the match rating approach value (also called PNI) for the string s.\n",
    "\n",
    "The Match rating approach algorithm is an algorithm for determining whether or not two names are pronounced similarly. The algorithm consists of an encoding function (similar to soundex or nysiis) which is implemented here as well as match_rating_comparison() which does the actual comparison.\n",
    "\n",
    "See the Match Rating Approach article at Wikipedia for more details."
   ]
  },
  {
   "cell_type": "code",
   "execution_count": 79,
   "metadata": {},
   "outputs": [
    {
     "name": "stdout",
     "output_type": "stream",
     "text": [
      "Nombre a comparar: MAYRA MORATAYA\n",
      "Resultados:\n",
      "MAIRA MORATAYA: MYRRTY = MR RTY -> False\n",
      "MAIRA MORATALLA: MYRRTY = MR RTL -> False\n",
      "MAYRA MORATAYA: MYRRTY = MYRRTY -> True\n",
      "MAYRA MORATALL: MYRRTY = MYRRTL -> False\n",
      "MAYR MOATAYA: MYRRTY = MYRMTY -> False\n",
      "MAYRAMORATAYA: MYRRTY = MYRRTY -> True\n",
      "MA MORATAYA: MYRRTY = M MRTY -> False\n",
      "MAYAR MOARAT: MYRRTY = MYRMRT -> False\n"
     ]
    }
   ],
   "source": [
    "print(f'Nombre a comparar: {nombre_correcto.upper()}')\n",
    "print('Resultados:')\n",
    "for nombre_incorrecto in nombres_incorrectos:\n",
    "    results = jellyfish.match_rating_codex(nombre_correcto)\n",
    "    results2 = jellyfish.match_rating_codex(nombre_incorrecto)\n",
    "    es_igual = results == results2\n",
    "    print(f'{nombre_incorrecto.upper()}: {results} = {results2} -> {es_igual}')"
   ]
  },
  {
   "cell_type": "markdown",
   "metadata": {},
   "source": [
    "## Porter Stemmer\n",
    "Reduce the string s to its stem using the common Porter stemmer.\n",
    "\n",
    "Stemming is the process of reducing a word to its root form, for example 'stemmed' to 'stem'.\n",
    "\n",
    "Martin Porter's algorithm is a common algorithm used for stemming that works for many purposes.\n",
    "\n",
    "See the official homepage for the Porter Stemming Algorithm for more details."
   ]
  },
  {
   "cell_type": "code",
   "execution_count": 84,
   "metadata": {},
   "outputs": [
    {
     "name": "stdout",
     "output_type": "stream",
     "text": [
      "Nombre a comparar: MAYRA MORATAYA\n",
      "Resultados:\n",
      "MAIRA MORATAYA: MAYRA MORATAYA = MAIRA MORATAYA -> False\n",
      "MAIRA MORATALLA: MAYRA MORATAYA = MAIRA MORATALLA -> False\n",
      "MAYRA MORATAYA: MAYRA MORATAYA = MAYRA MORATAYA -> True\n",
      "MAYRA MORATALL: MAYRA MORATAYA = MAYRA MORATALL -> False\n",
      "MAYR MOATAYA: MAYRA MORATAYA = MAYR MOATAYA -> False\n",
      "MAYRAMORATAYA: MAYRA MORATAYA = MAYRAMORATAYA -> False\n",
      "MA MORATAYA: MAYRA MORATAYA = MA MORATAYA -> False\n",
      "MAYAR MOARAT: MAYRA MORATAYA = MAYAR MOARAT -> False\n"
     ]
    }
   ],
   "source": [
    "print(f'Nombre a comparar: {nombre_correcto.upper()}')\n",
    "print('Resultados:')\n",
    "for nombre_incorrecto in nombres_incorrectos:\n",
    "    results = jellyfish.porter_stem(nombre_correcto.upper())\n",
    "    results2 = jellyfish.porter_stem(nombre_incorrecto.upper())\n",
    "    es_igual = results == results2\n",
    "    print(f'{nombre_incorrecto.upper()}: {results} = {results2} -> {es_igual}')"
   ]
  },
  {
   "cell_type": "markdown",
   "metadata": {},
   "source": [
    "# COMPARACION CON EXCEL\n",
    "## Cargar Excel de Input y genera Excel de Output"
   ]
  },
  {
   "cell_type": "code",
   "execution_count": 134,
   "metadata": {},
   "outputs": [],
   "source": [
    "def validar_algoritmos(nombre_correcto, nombre_incorrecto):\n",
    "    nombre_correcto = nombre_correcto.upper()\n",
    "    nombre_incorrecto = nombre_incorrecto.upper()\n",
    "    \n",
    "    jaro_distance = str(round(jellyfish.jaro_distance(nombre_correcto, nombre_incorrecto) * 100, 2)) + '%'\n",
    "    jaro_winkler = str(round(jellyfish.jaro_winkler(nombre_correcto, nombre_incorrecto) * 100, 2)) + '%'\n",
    "    levenshtein_distance = str(jellyfish.levenshtein_distance(nombre_correcto, nombre_incorrecto)) + ' Caracteres Distintos'\n",
    "    damerau_levenshtein_distance = str(jellyfish.damerau_levenshtein_distance(nombre_correcto, nombre_incorrecto)) + ' Caracteres Distintos'\n",
    "    match_rating_comparison = jellyfish.match_rating_comparison(nombre_correcto, nombre_incorrecto)\n",
    "    hamming_distance = str(jellyfish.hamming_distance(nombre_correcto, nombre_incorrecto)) + ' Caracteres Distintos'\n",
    "\n",
    "    soundex = jellyfish.soundex(nombre_correcto) == jellyfish.soundex(nombre_incorrecto)\n",
    "    metaphone = jellyfish.metaphone(nombre_correcto) == jellyfish.metaphone(nombre_incorrecto)\n",
    "    match_rating_codex = jellyfish.match_rating_codex(nombre_correcto) == jellyfish.match_rating_codex(nombre_incorrecto)\n",
    "    nysiis = jellyfish.nysiis(nombre_correcto) == jellyfish.nysiis(nombre_incorrecto)\n",
    "    porter_stem = jellyfish.porter_stem(nombre_correcto.upper()) == jellyfish.porter_stem(nombre_incorrecto.upper())\n",
    "\n",
    "    datos = {'NombreCorrecto': nombre_correcto, 'NombreComparacion': nombre_incorrecto, 'jaro_distance': jaro_distance, 'jaro_winkler': jaro_winkler, 'levenshtein_distance': levenshtein_distance, 'damerau_levenshtein_distance': damerau_levenshtein_distance, 'match_rating_comparison': match_rating_comparison, 'hamming_distance': hamming_distance, 'soundex': soundex, 'metaphone': metaphone, 'nysiis': nysiis, 'match_rating_codex': match_rating_codex, 'porter_stem': porter_stem}\n",
    "   \n",
    "    return datos"
   ]
  },
  {
   "cell_type": "code",
   "execution_count": 138,
   "metadata": {},
   "outputs": [],
   "source": [
    "def ejecuta_comparacion(datos_comparacion):\n",
    "    columnas = ['NombreCorrecto', 'NombreComparacion', 'jaro_distance', 'jaro_winkler', 'levenshtein_distance', 'damerau_levenshtein_distance', 'match_rating_comparison', 'hamming_distance', 'soundex', 'metaphone', 'nysiis', 'match_rating_codex', 'porter_stem']\n",
    "    df_resultado = pd.DataFrame(columns=columnas)\n",
    "\n",
    "    for index, row in datos_comparacion.iterrows():\n",
    "        nombre1 = row[0]\n",
    "        nombre2 = row[1]\n",
    "        resultado = validar_algoritmos(nombre1, nombre2)\n",
    "        df_resultado = df_resultado.append(resultado, ignore_index = True)\n",
    "    return df_resultado"
   ]
  },
  {
   "cell_type": "code",
   "execution_count": 140,
   "metadata": {},
   "outputs": [
    {
     "data": {
      "text/html": [
       "<div>\n",
       "<style scoped>\n",
       "    .dataframe tbody tr th:only-of-type {\n",
       "        vertical-align: middle;\n",
       "    }\n",
       "\n",
       "    .dataframe tbody tr th {\n",
       "        vertical-align: top;\n",
       "    }\n",
       "\n",
       "    .dataframe thead th {\n",
       "        text-align: right;\n",
       "    }\n",
       "</style>\n",
       "<table border=\"1\" class=\"dataframe\">\n",
       "  <thead>\n",
       "    <tr style=\"text-align: right;\">\n",
       "      <th></th>\n",
       "      <th>NombreCorrecto</th>\n",
       "      <th>NombreComparacion</th>\n",
       "      <th>jaro_distance</th>\n",
       "      <th>jaro_winkler</th>\n",
       "      <th>levenshtein_distance</th>\n",
       "      <th>damerau_levenshtein_distance</th>\n",
       "      <th>match_rating_comparison</th>\n",
       "      <th>hamming_distance</th>\n",
       "      <th>soundex</th>\n",
       "      <th>metaphone</th>\n",
       "      <th>nysiis</th>\n",
       "      <th>match_rating_codex</th>\n",
       "      <th>porter_stem</th>\n",
       "    </tr>\n",
       "  </thead>\n",
       "  <tbody>\n",
       "    <tr>\n",
       "      <th>0</th>\n",
       "      <td>MAYRA MORATAYA</td>\n",
       "      <td>MAIRA MORATAYA</td>\n",
       "      <td>95.24%</td>\n",
       "      <td>96.19%</td>\n",
       "      <td>1 Caracteres Distintos</td>\n",
       "      <td>1 Caracteres Distintos</td>\n",
       "      <td>True</td>\n",
       "      <td>1 Caracteres Distintos</td>\n",
       "      <td>True</td>\n",
       "      <td>True</td>\n",
       "      <td>False</td>\n",
       "      <td>False</td>\n",
       "      <td>False</td>\n",
       "    </tr>\n",
       "    <tr>\n",
       "      <th>1</th>\n",
       "      <td>MAYRA MORATAYA</td>\n",
       "      <td>MAIRA MORATALLA</td>\n",
       "      <td>88.57%</td>\n",
       "      <td>90.86%</td>\n",
       "      <td>3 Caracteres Distintos</td>\n",
       "      <td>3 Caracteres Distintos</td>\n",
       "      <td>True</td>\n",
       "      <td>4 Caracteres Distintos</td>\n",
       "      <td>True</td>\n",
       "      <td>False</td>\n",
       "      <td>False</td>\n",
       "      <td>False</td>\n",
       "      <td>False</td>\n",
       "    </tr>\n",
       "    <tr>\n",
       "      <th>2</th>\n",
       "      <td>MAYRA MORATAYA</td>\n",
       "      <td>MAYRA MORATAYA</td>\n",
       "      <td>100.0%</td>\n",
       "      <td>100.0%</td>\n",
       "      <td>0 Caracteres Distintos</td>\n",
       "      <td>0 Caracteres Distintos</td>\n",
       "      <td>True</td>\n",
       "      <td>0 Caracteres Distintos</td>\n",
       "      <td>True</td>\n",
       "      <td>True</td>\n",
       "      <td>True</td>\n",
       "      <td>True</td>\n",
       "      <td>True</td>\n",
       "    </tr>\n",
       "  </tbody>\n",
       "</table>\n",
       "</div>"
      ],
      "text/plain": [
       "   NombreCorrecto NombreComparacion jaro_distance jaro_winkler  \\\n",
       "0  MAYRA MORATAYA    MAIRA MORATAYA        95.24%       96.19%   \n",
       "1  MAYRA MORATAYA   MAIRA MORATALLA        88.57%       90.86%   \n",
       "2  MAYRA MORATAYA    MAYRA MORATAYA        100.0%       100.0%   \n",
       "\n",
       "     levenshtein_distance damerau_levenshtein_distance  \\\n",
       "0  1 Caracteres Distintos       1 Caracteres Distintos   \n",
       "1  3 Caracteres Distintos       3 Caracteres Distintos   \n",
       "2  0 Caracteres Distintos       0 Caracteres Distintos   \n",
       "\n",
       "  match_rating_comparison        hamming_distance soundex metaphone nysiis  \\\n",
       "0                    True  1 Caracteres Distintos    True      True  False   \n",
       "1                    True  4 Caracteres Distintos    True     False  False   \n",
       "2                    True  0 Caracteres Distintos    True      True   True   \n",
       "\n",
       "  match_rating_codex porter_stem  \n",
       "0              False       False  \n",
       "1              False       False  \n",
       "2               True        True  "
      ]
     },
     "execution_count": 140,
     "metadata": {},
     "output_type": "execute_result"
    }
   ],
   "source": [
    "datos_comparacion = pd.read_excel('Input_comparacion.xlsx', sheet_name = 0, usecols = \"A:B\", index=False)\n",
    "df_resultado = ejecuta_comparacion(datos_comparacion)\n",
    "df_resultado.to_excel(\"Output_comparacion.xlsx\") \n",
    "df_resultado.head(3)"
   ]
  },
  {
   "cell_type": "code",
   "execution_count": null,
   "metadata": {},
   "outputs": [],
   "source": []
  }
 ],
 "metadata": {
  "kernelspec": {
   "display_name": "Python 3",
   "language": "python",
   "name": "python3"
  },
  "language_info": {
   "codemirror_mode": {
    "name": "ipython",
    "version": 3
   },
   "file_extension": ".py",
   "mimetype": "text/x-python",
   "name": "python",
   "nbconvert_exporter": "python",
   "pygments_lexer": "ipython3",
   "version": "3.8.3"
  }
 },
 "nbformat": 4,
 "nbformat_minor": 4
}
